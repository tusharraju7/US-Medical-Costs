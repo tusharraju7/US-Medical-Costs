{
 "cells": [
  {
   "cell_type": "markdown",
   "metadata": {},
   "source": [
    "# U.S. Medical Insurance Costs"
   ]
  },
  {
   "cell_type": "markdown",
   "metadata": {},
   "source": [
    "Let us first analyze our dataset. \n",
    "Note: We will not be using Pandas, Matplotlib or NumPy in this project."
   ]
  },
  {
   "cell_type": "code",
   "execution_count": 1,
   "metadata": {},
   "outputs": [],
   "source": [
    "import csv\n",
    "with open(\"insurance.csv\",\"r\") as file:\n",
    "    insurance_data = list(csv.reader(file))"
   ]
  },
  {
   "cell_type": "markdown",
   "metadata": {},
   "source": [
    "Let us view the Column Headers to know what data we have."
   ]
  },
  {
   "cell_type": "code",
   "execution_count": 2,
   "metadata": {},
   "outputs": [
    {
     "name": "stdout",
     "output_type": "stream",
     "text": [
      "The information we have is:  ['age', 'sex', 'bmi', 'children', 'smoker', 'region', 'charges']\n",
      "The number of records we have is:  1338\n"
     ]
    }
   ],
   "source": [
    "print(\"The information we have is: \",insurance_data[0])\n",
    "print(\"The number of records we have is: \",len(insurance_data)-1)\n",
    "insurance_data = insurance_data[1:]"
   ]
  },
  {
   "cell_type": "markdown",
   "metadata": {},
   "source": [
    "We have 7 columns and they are : Age, Sex, BMI, Children, Smoker, Region & Charges.\n",
    "There are a total of 1338 records."
   ]
  },
  {
   "cell_type": "markdown",
   "metadata": {},
   "source": [
    "# Goals"
   ]
  },
  {
   "cell_type": "markdown",
   "metadata": {},
   "source": [
    "Based on the data we have been provided, there are a few insights we can gather. The main objectives of this project is to analyze the information and find the following:\n",
    "\n",
    "1. Difference of average insurance costs for smokers & non-smokers.\n",
    "2. Does location correlate with the insurance cost? (Example: A region could have a lot of smokers)\n",
    "3. Identify the average age,cost & BMI of the male & female members.\n",
    "4. Identify the average insurance costs for people with different number of children."
   ]
  },
  {
   "cell_type": "markdown",
   "metadata": {},
   "source": [
    "# Organizing the Data"
   ]
  },
  {
   "cell_type": "markdown",
   "metadata": {},
   "source": [
    "Let us first get a better understanding of our demographic. Let us split the data into seperate lists based on their characteristics."
   ]
  },
  {
   "cell_type": "code",
   "execution_count": 3,
   "metadata": {},
   "outputs": [
    {
     "name": "stdout",
     "output_type": "stream",
     "text": [
      "Here are the first 5 samples of our data:\n",
      "\n",
      "['18', 'male', '33.77', '1', 'no', 'southeast', '1725.5523'] \n",
      "\n",
      "['28', 'male', '33', '3', 'no', 'southeast', '4449.462'] \n",
      "\n",
      "['33', 'male', '22.705', '0', 'no', 'northwest', '21984.47061'] \n",
      "\n",
      "['32', 'male', '28.88', '0', 'no', 'northwest', '3866.8552'] \n",
      "\n",
      "['37', 'male', '29.83', '2', 'no', 'northeast', '6406.4107'] \n",
      "\n",
      "There are 676 records consisting of an individual who is male.\n"
     ]
    }
   ],
   "source": [
    "males_only = list()\n",
    "for record in insurance_data:\n",
    "    if record[1] == \"male\":\n",
    "        males_only.append(record)\n",
    "print(\"Here are the first 5 samples of our data:\\n\")\n",
    "for i in range(5):\n",
    "    print(males_only[i],\"\\n\")\n",
    "print(\"There are {} records consisting of an individual who is male.\".format(len(males_only)))\n"
   ]
  },
  {
   "cell_type": "code",
   "execution_count": 4,
   "metadata": {},
   "outputs": [
    {
     "name": "stdout",
     "output_type": "stream",
     "text": [
      "Here are the first 5 samples of our data:\n",
      "\n",
      "['19', 'female', '27.9', '0', 'yes', 'southwest', '16884.924'] \n",
      "\n",
      "['31', 'female', '25.74', '0', 'no', 'southeast', '3756.6216'] \n",
      "\n",
      "['46', 'female', '33.44', '1', 'no', 'southeast', '8240.5896'] \n",
      "\n",
      "['37', 'female', '27.74', '3', 'no', 'northwest', '7281.5056'] \n",
      "\n",
      "['60', 'female', '25.84', '0', 'no', 'northwest', '28923.13692'] \n",
      "\n",
      "There are 662 records consisting of an individual who is female.\n"
     ]
    }
   ],
   "source": [
    "females_only = list()\n",
    "for record in insurance_data:\n",
    "    if record[1] == \"female\":\n",
    "        females_only.append(record)\n",
    "print(\"Here are the first 5 samples of our data:\\n\")\n",
    "for i in range(5):\n",
    "    print(females_only[i],\"\\n\")\n",
    "print(\"There are {} records consisting of an individual who is female.\".format(len(females_only)))"
   ]
  },
  {
   "cell_type": "code",
   "execution_count": 5,
   "metadata": {},
   "outputs": [
    {
     "name": "stdout",
     "output_type": "stream",
     "text": [
      "Here are the first 5 samples of our data:\n",
      "\n",
      "['19', 'female', '27.9', '0', 'yes', 'southwest', '16884.924'] \n",
      "\n",
      "['62', 'female', '26.29', '0', 'yes', 'southeast', '27808.7251'] \n",
      "\n",
      "['27', 'male', '42.13', '0', 'yes', 'southeast', '39611.7577'] \n",
      "\n",
      "['30', 'male', '35.3', '0', 'yes', 'southwest', '36837.467'] \n",
      "\n",
      "['34', 'female', '31.92', '1', 'yes', 'northeast', '37701.8768'] \n",
      "\n",
      "There are 274 records consisting of an individual who is a smoker.\n"
     ]
    }
   ],
   "source": [
    "smokers_only = list()\n",
    "for record in insurance_data:\n",
    "    if record[4] == \"yes\":\n",
    "        smokers_only.append(record)\n",
    "print(\"Here are the first 5 samples of our data:\\n\")\n",
    "for i in range(5):\n",
    "    print(smokers_only[i],\"\\n\")\n",
    "print(\"There are {} records consisting of an individual who is a smoker.\".format(len(smokers_only)))"
   ]
  },
  {
   "cell_type": "code",
   "execution_count": 6,
   "metadata": {},
   "outputs": [
    {
     "name": "stdout",
     "output_type": "stream",
     "text": [
      "Here are the first 5 samples of our data:\n",
      "\n",
      "['18', 'male', '33.77', '1', 'no', 'southeast', '1725.5523'] \n",
      "\n",
      "['28', 'male', '33', '3', 'no', 'southeast', '4449.462'] \n",
      "\n",
      "['33', 'male', '22.705', '0', 'no', 'northwest', '21984.47061'] \n",
      "\n",
      "['32', 'male', '28.88', '0', 'no', 'northwest', '3866.8552'] \n",
      "\n",
      "['31', 'female', '25.74', '0', 'no', 'southeast', '3756.6216'] \n",
      "\n",
      "There are 1064 records consisting of an individual who is not a smoker.\n"
     ]
    }
   ],
   "source": [
    "non_smokers_only = list()\n",
    "for record in insurance_data:\n",
    "    if record[4] == \"no\":\n",
    "        non_smokers_only.append(record)\n",
    "print(\"Here are the first 5 samples of our data:\\n\")\n",
    "for i in range(5):\n",
    "    print(non_smokers_only[i],\"\\n\")\n",
    "print(\"There are {} records consisting of an individual who is not a smoker.\".format(len(non_smokers_only)))"
   ]
  },
  {
   "cell_type": "code",
   "execution_count": 7,
   "metadata": {},
   "outputs": [
    {
     "name": "stdout",
     "output_type": "stream",
     "text": [
      "The dataset has 325 records from the region southwest.\n",
      "\n",
      "The dataset has 364 records from the region southeast.\n",
      "\n",
      "The dataset has 325 records from the region northwest.\n",
      "\n",
      "The dataset has 324 records from the region northeast.\n",
      "\n"
     ]
    }
   ],
   "source": [
    "region_count = dict()\n",
    "for record in insurance_data:\n",
    "    if record[5] not in region_count:\n",
    "        region_count[record[5]] = 1\n",
    "    else:\n",
    "        region_count[record[5]]+=1\n",
    "for key,value in region_count.items():\n",
    "    print(\"The dataset has {} records from the region {}.\\n\".format(value,key))\n"
   ]
  },
  {
   "cell_type": "code",
   "execution_count": 8,
   "metadata": {},
   "outputs": [
    {
     "name": "stdout",
     "output_type": "stream",
     "text": [
      "Here are the first 5 samples of our data:\n",
      "\n",
      "['18', 'male', '33.77', '1', 'no', 'southeast', '1725.5523'] \n",
      "\n",
      "['28', 'male', '33', '3', 'no', 'southeast', '4449.462'] \n",
      "\n",
      "['46', 'female', '33.44', '1', 'no', 'southeast', '8240.5896'] \n",
      "\n",
      "['37', 'female', '27.74', '3', 'no', 'northwest', '7281.5056'] \n",
      "\n",
      "['37', 'male', '29.83', '2', 'no', 'northeast', '6406.4107'] \n",
      "\n",
      "There are 764 records consisting of an individual who has atleast one child.\n"
     ]
    }
   ],
   "source": [
    "have_children = list()\n",
    "for record in insurance_data:\n",
    "    if int(record[3]) >= 1:\n",
    "        have_children.append(record)\n",
    "print(\"Here are the first 5 samples of our data:\\n\")\n",
    "for i in range(5):\n",
    "    print(have_children[i],\"\\n\")\n",
    "print(\"There are {} records consisting of an individual who has atleast one child.\".format(len(have_children)))\n",
    "    "
   ]
  },
  {
   "cell_type": "code",
   "execution_count": 9,
   "metadata": {},
   "outputs": [
    {
     "name": "stdout",
     "output_type": "stream",
     "text": [
      "Here are the first 5 samples of our data:\n",
      "\n",
      "['19', 'female', '27.9', '0', 'yes', 'southwest', '16884.924'] \n",
      "\n",
      "['33', 'male', '22.705', '0', 'no', 'northwest', '21984.47061'] \n",
      "\n",
      "['32', 'male', '28.88', '0', 'no', 'northwest', '3866.8552'] \n",
      "\n",
      "['31', 'female', '25.74', '0', 'no', 'southeast', '3756.6216'] \n",
      "\n",
      "['60', 'female', '25.84', '0', 'no', 'northwest', '28923.13692'] \n",
      "\n",
      "There are 574 records consisting of an individual who does not have a child\n"
     ]
    }
   ],
   "source": [
    "no_children = list()\n",
    "for record in insurance_data:\n",
    "    if int(record[3]) == 0:\n",
    "        no_children.append(record)\n",
    "print(\"Here are the first 5 samples of our data:\\n\")\n",
    "for i in range(5):\n",
    "    print(no_children[i],\"\\n\")\n",
    "print(\"There are {} records consisting of an individual who does not have a child\".format(len(no_children)))"
   ]
  },
  {
   "cell_type": "markdown",
   "metadata": {},
   "source": [
    "# Analysis"
   ]
  },
  {
   "cell_type": "markdown",
   "metadata": {},
   "source": [
    "Let us define a General Function which can be used to identify the Minimum, Average & Maximum Insurance Costs for each category."
   ]
  },
  {
   "cell_type": "code",
   "execution_count": 10,
   "metadata": {},
   "outputs": [],
   "source": [
    "def statistics(data,variable_name):\n",
    "    total_cost = 0.0\n",
    "    minimum_cost = float('inf')\n",
    "    maximum_cost = -float('inf')\n",
    "    for record in data:\n",
    "        total_cost+= float(record[-1])\n",
    "        if float(record[-1]) < minimum_cost:\n",
    "            minimum_cost = float(record[-1])\n",
    "        if float(record[-1]) > maximum_cost:\n",
    "            maximum_cost = float(record[-1])\n",
    "    average_cost = total_cost/len(data)\n",
    "    print(\"\\n--- STATISTICS FOR {} ---\".format(variable_name.upper()))\n",
    "    print(\"The Total Number of Records are: {}\".format(len(data)))\n",
    "    print(\"The Minimum Insurance Cost is: ${}.\".format(round(minimum_cost,2)))\n",
    "    print(\"The Average Insurance Cost is: ${}.\".format(round(average_cost,2)))\n",
    "    print(\"The Maximum Insurance Cost is: ${}.\".format(round(maximum_cost,2)))\n",
    "    print(\"--- STATISTICS FOR {} ---\\n\".format(variable_name.upper()))\n",
    "    return average_cost"
   ]
  },
  {
   "cell_type": "markdown",
   "metadata": {},
   "source": [
    "### 1. Average Insurance Cost: Smoker Vs. Non-Smoker"
   ]
  },
  {
   "cell_type": "code",
   "execution_count": 11,
   "metadata": {},
   "outputs": [
    {
     "name": "stdout",
     "output_type": "stream",
     "text": [
      "\n",
      "--- STATISTICS FOR SMOKERS ---\n",
      "The Total Number of Records are: 274\n",
      "The Minimum Insurance Cost is: $12829.46.\n",
      "The Average Insurance Cost is: $32050.23.\n",
      "The Maximum Insurance Cost is: $63770.43.\n",
      "--- STATISTICS FOR SMOKERS ---\n",
      "\n",
      "\n",
      "--- STATISTICS FOR NON-SMOKERS ---\n",
      "The Total Number of Records are: 1064\n",
      "The Minimum Insurance Cost is: $1121.87.\n",
      "The Average Insurance Cost is: $8434.27.\n",
      "The Maximum Insurance Cost is: $36910.61.\n",
      "--- STATISTICS FOR NON-SMOKERS ---\n",
      "\n",
      "The difference between the average insurance cost of a smoker and the average insurance cost of a non smoker is: \n",
      "$ 23615.96\n"
     ]
    }
   ],
   "source": [
    "#Finding Statistics for a Smoker:\n",
    "smokers_average_cost = statistics(smokers_only,\"smokers\")\n",
    "#Finding Statistics for a Non-Smoker:\n",
    "non_smokers_average_cost = statistics(non_smokers_only,\"non-smokers\")\n",
    "\n",
    "#Difference between the Average costs:\n",
    "difference_smokers_cost = smokers_average_cost - non_smokers_average_cost\n",
    "print(\"The difference between the average insurance cost of a smoker and the average insurance cost of a non smoker is: \\n$\",round(difference_smokers_cost,2))"
   ]
  },
  {
   "cell_type": "markdown",
   "metadata": {},
   "source": [
    "### 1. Results\n",
    "\n",
    "From this statistic, we can understand that an individual who smokes is more likely to pay a higher fee for his/her medical insurance. This may be a result of medical insurance issuers assuming that individuals who smoke are more likely to encounter medical issues than individuals who do not smoke. The difference is a huge, A smoker is likely to pay an approximated \\\\$23,000 more than a non smoker. "
   ]
  },
  {
   "cell_type": "markdown",
   "metadata": {},
   "source": [
    "### 2. Average Insurance Cost based on Region"
   ]
  },
  {
   "cell_type": "code",
   "execution_count": 12,
   "metadata": {},
   "outputs": [
    {
     "name": "stdout",
     "output_type": "stream",
     "text": [
      "The four regions are:  ['southwest', 'southeast', 'northwest', 'northeast']\n"
     ]
    }
   ],
   "source": [
    "regions = [ region for region in region_count.keys()]\n",
    "print(\"The four regions are: \", regions)"
   ]
  },
  {
   "cell_type": "markdown",
   "metadata": {},
   "source": [
    "Let us create seperate lists based on the region. I have used list comprehension to keep it short."
   ]
  },
  {
   "cell_type": "code",
   "execution_count": 13,
   "metadata": {},
   "outputs": [],
   "source": [
    "southwest_data = [ record for record in insurance_data if record[5]==\"southwest\"]\n",
    "southeast_data = [ record for record in insurance_data if record[5]==\"southeast\"]\n",
    "northwest_data = [ record for record in insurance_data if record[5]==\"northwest\"]\n",
    "northeast_data = [ record for record in insurance_data if record[5]==\"northeast\"]"
   ]
  },
  {
   "cell_type": "code",
   "execution_count": 14,
   "metadata": {},
   "outputs": [
    {
     "name": "stdout",
     "output_type": "stream",
     "text": [
      "\n",
      "--- STATISTICS FOR SOUTHWEST ---\n",
      "The Total Number of Records are: 325\n",
      "The Minimum Insurance Cost is: $1241.57.\n",
      "The Average Insurance Cost is: $12346.94.\n",
      "The Maximum Insurance Cost is: $52590.83.\n",
      "--- STATISTICS FOR SOUTHWEST ---\n",
      "\n",
      "\n",
      "--- STATISTICS FOR SOUTHEAST ---\n",
      "The Total Number of Records are: 364\n",
      "The Minimum Insurance Cost is: $1121.87.\n",
      "The Average Insurance Cost is: $14735.41.\n",
      "The Maximum Insurance Cost is: $63770.43.\n",
      "--- STATISTICS FOR SOUTHEAST ---\n",
      "\n",
      "\n",
      "--- STATISTICS FOR NORTHWEST ---\n",
      "The Total Number of Records are: 325\n",
      "The Minimum Insurance Cost is: $1621.34.\n",
      "The Average Insurance Cost is: $12417.58.\n",
      "The Maximum Insurance Cost is: $60021.4.\n",
      "--- STATISTICS FOR NORTHWEST ---\n",
      "\n",
      "\n",
      "--- STATISTICS FOR NORTHEAST ---\n",
      "The Total Number of Records are: 324\n",
      "The Minimum Insurance Cost is: $1694.8.\n",
      "The Average Insurance Cost is: $13406.38.\n",
      "The Maximum Insurance Cost is: $58571.07.\n",
      "--- STATISTICS FOR NORTHEAST ---\n",
      "\n"
     ]
    }
   ],
   "source": [
    "#Finding Statistics for Southwest region:\n",
    "average_southwest = statistics(southwest_data,\"southwest\")\n",
    "#Finding Statistics for Southeast region:\n",
    "average_southeast = statistics(southeast_data,\"southeast\")\n",
    "#Finding Statistics for Northwest region:\n",
    "average_northwest = statistics(northwest_data,\"northwest\")\n",
    "#Finding Statistics for Northeast region:\n",
    "average_northeast = statistics(northeast_data,\"northeast\")"
   ]
  },
  {
   "cell_type": "code",
   "execution_count": 15,
   "metadata": {},
   "outputs": [
    {
     "name": "stdout",
     "output_type": "stream",
     "text": [
      "The Maximum average cost among the 4 regions is for the region Southeast with it's average being $14735.41 and the Minimum average cost among the 4 regions is for the region Southwest with it's average being $12346.94.\n"
     ]
    }
   ],
   "source": [
    "print(\"The Maximum average cost among the 4 regions is for the region Southeast with it's average being ${} and the Minimum average cost among the 4 regions is for the region Southwest with it's average being ${}.\".format(round(average_southeast,2),round(average_southwest,2)))"
   ]
  },
  {
   "cell_type": "markdown",
   "metadata": {},
   "source": [
    "### 2. Results"
   ]
  },
  {
   "cell_type": "markdown",
   "metadata": {},
   "source": [
    "From the statistic, we can understand that southeast has the maximum number of records compared to the other regions. The average cost for Southeast is also higher than the rest. There may be a slight chance that the southwest region has more medical emergencies than other regions and hence there are more records and the average cost is higher but this is a possibility not a guarantee. We can conclude that 4 regions average insurance is within the range of \\\\$12,000 - \\\\$15,000."
   ]
  },
  {
   "cell_type": "markdown",
   "metadata": {},
   "source": [
    "### 3. Average Age, Costs & BMI of Males & Females"
   ]
  },
  {
   "cell_type": "markdown",
   "metadata": {},
   "source": [
    "In-order to calculate average age & average BMI, let us define a function to make it simple and re-usable."
   ]
  },
  {
   "cell_type": "code",
   "execution_count": 16,
   "metadata": {},
   "outputs": [
    {
     "name": "stdout",
     "output_type": "stream",
     "text": [
      "\n",
      "--- STATISTICS FOR MALES ---\n",
      "The Total Number of Records are: 676\n",
      "The Minimum Insurance Cost is: $1121.87.\n",
      "The Average Insurance Cost is: $13956.75.\n",
      "The Maximum Insurance Cost is: $62592.87.\n",
      "--- STATISTICS FOR MALES ---\n",
      "\n",
      "--- AGE & BMI INFO FOR MALES ---\n",
      "The average age of Males is: 38.9 years. \n",
      "The average BMI of Males is: 30.9.\n",
      "--- AGE & BMI INFO FOR MALES ---\n",
      "\n",
      "--- STATISTICS FOR FEMALES ---\n",
      "The Total Number of Records are: 662\n",
      "The Minimum Insurance Cost is: $1607.51.\n",
      "The Average Insurance Cost is: $12569.58.\n",
      "The Maximum Insurance Cost is: $63770.43.\n",
      "--- STATISTICS FOR FEMALES ---\n",
      "\n",
      "--- AGE & BMI INFO FOR FEMALES ---\n",
      "The average age of Females is: 39.5 years. \n",
      "The average BMI of Females is: 30.4.\n",
      "--- AGE & BMI INFO FOR FEMALES ---\n"
     ]
    }
   ],
   "source": [
    "def average_age_BMI(data,variable_name):\n",
    "    total_age = 0\n",
    "    total_BMI = 0\n",
    "    for record in data:\n",
    "        total_age+=float(record[0])\n",
    "        total_BMI+=float(record[2])\n",
    "    average_age = total_age/len(data)\n",
    "    average_BMI = total_BMI/len(data)\n",
    "    print(\"--- AGE & BMI INFO FOR {} ---\".format(variable_name.upper()))\n",
    "    print(\"The average age of {} is: {} years. \".format(variable_name,round(average_age,1)))\n",
    "    print(\"The average BMI of {} is: {}.\".format(variable_name,round(average_BMI,1)))\n",
    "    print(\"--- AGE & BMI INFO FOR {} ---\".format(variable_name.upper()))\n",
    "    \n",
    "#Finding Statistics for Males:\n",
    "males_average_cost = statistics(males_only,\"Males\")\n",
    "average_age_BMI(males_only,\"Males\")\n",
    "#Finding Statistics for Females:\n",
    "females_average_cost = statistics(females_only,\"Females\")\n",
    "average_age_BMI(females_only,\"Females\")"
   ]
  },
  {
   "cell_type": "markdown",
   "metadata": {},
   "source": [
    "We have our gender categories split already let us futher split each category based on their BMI's\n",
    "1. Under weight (BMI <= 18.5)\n",
    "2. Healthy weight (18.5 < BMI <= 25)\n",
    "3. Over weight (25 < BMI <= 30)\n",
    "4. Obese (30 < BMI)"
   ]
  },
  {
   "cell_type": "code",
   "execution_count": 17,
   "metadata": {},
   "outputs": [],
   "source": [
    "#Splitting males dataset based on BMI and finding the corresponding statistics:\n",
    "uw_males = [record for record in males_only if float(record[2])<=18.5]\n",
    "hw_males = [record for record in males_only if float(record[2])>18.5 and float(record[2])<=25]\n",
    "ow_males = [record for record in males_only if float(record[2])>25 and float(record[2])<=30]\n",
    "ob_males = [record for record in males_only if float(record[2])>30]"
   ]
  },
  {
   "cell_type": "code",
   "execution_count": 18,
   "metadata": {},
   "outputs": [
    {
     "name": "stdout",
     "output_type": "stream",
     "text": [
      "\n",
      "--- STATISTICS FOR UNDER-WEIGHT MALES ---\n",
      "The Total Number of Records are: 8\n",
      "The Minimum Insurance Cost is: $1621.34.\n",
      "The Average Insurance Cost is: $5611.71.\n",
      "The Maximum Insurance Cost is: $12829.46.\n",
      "--- STATISTICS FOR UNDER-WEIGHT MALES ---\n",
      "\n",
      "--- AGE & BMI INFO FOR UNDER-WEIGHT MALES ---\n",
      "The average age of Under-Weight Males is: 29.2 years. \n",
      "The average BMI of Under-Weight Males is: 17.3.\n",
      "--- AGE & BMI INFO FOR UNDER-WEIGHT MALES ---\n",
      "\n",
      "--- STATISTICS FOR HEALTHY-WEIGHT MALES ---\n",
      "The Total Number of Records are: 108\n",
      "The Minimum Insurance Cost is: $1121.87.\n",
      "The Average Insurance Cost is: $9868.02.\n",
      "The Maximum Insurance Cost is: $35069.37.\n",
      "--- STATISTICS FOR HEALTHY-WEIGHT MALES ---\n",
      "\n",
      "--- AGE & BMI INFO FOR HEALTHY-WEIGHT MALES ---\n",
      "The average age of Healthy-Weight Males is: 36.8 years. \n",
      "The average BMI of Healthy-Weight Males is: 22.6.\n",
      "--- AGE & BMI INFO FOR HEALTHY-WEIGHT MALES ---\n",
      "\n",
      "--- STATISTICS FOR OVER-WEIGHT MALES ---\n",
      "The Total Number of Records are: 189\n",
      "The Minimum Insurance Cost is: $1252.41.\n",
      "The Average Insurance Cost is: $11394.04.\n",
      "The Maximum Insurance Cost is: $38245.59.\n",
      "--- STATISTICS FOR OVER-WEIGHT MALES ---\n",
      "\n",
      "--- AGE & BMI INFO FOR OVER-WEIGHT MALES ---\n",
      "The average age of Over-Weight Males is: 37.8 years. \n",
      "The average BMI of Over-Weight Males is: 27.6.\n",
      "--- AGE & BMI INFO FOR OVER-WEIGHT MALES ---\n",
      "\n",
      "--- STATISTICS FOR OBESE MALES ---\n",
      "The Total Number of Records are: 371\n",
      "The Minimum Insurance Cost is: $1131.51.\n",
      "The Average Insurance Cost is: $16632.48.\n",
      "The Maximum Insurance Cost is: $62592.87.\n",
      "--- STATISTICS FOR OBESE MALES ---\n",
      "\n",
      "--- AGE & BMI INFO FOR OBESE MALES ---\n",
      "The average age of Obese Males is: 40.3 years. \n",
      "The average BMI of Obese Males is: 35.3.\n",
      "--- AGE & BMI INFO FOR OBESE MALES ---\n"
     ]
    }
   ],
   "source": [
    "#Finding Statistics for Under-weight Males:\n",
    "uw_average_cost = statistics(uw_males,\"Under-Weight Males\")\n",
    "average_age_BMI(uw_males,\"Under-Weight Males\")\n",
    "#Finding Statistics for Healthy-weight Males:\n",
    "hw_average_cost = statistics(hw_males,\"Healthy-Weight Males\")\n",
    "average_age_BMI(hw_males,\"Healthy-Weight Males\")\n",
    "#Finding Statistics for Over-weight Males:\n",
    "ow_average_cost = statistics(ow_males,\"Over-Weight Males\")\n",
    "average_age_BMI(ow_males,\"Over-Weight Males\")\n",
    "#Finding Statistics for Obese Males:\n",
    "ob_average_cost = statistics(ob_males,\"Obese Males\")\n",
    "average_age_BMI(ob_males,\"Obese Males\")"
   ]
  },
  {
   "cell_type": "code",
   "execution_count": 19,
   "metadata": {},
   "outputs": [],
   "source": [
    "#Splitting females dataset based on BMI and finding the corresponding statistics:\n",
    "uw_females = [record for record in females_only if float(record[2])<=18.5]\n",
    "hw_females = [record for record in females_only if float(record[2])>18.5 and float(record[2])<=25]\n",
    "ow_females = [record for record in females_only if float(record[2])>25 and float(record[2])<=30]\n",
    "ob_females = [record for record in females_only if float(record[2])>30]"
   ]
  },
  {
   "cell_type": "code",
   "execution_count": 20,
   "metadata": {},
   "outputs": [
    {
     "name": "stdout",
     "output_type": "stream",
     "text": [
      "\n",
      "--- STATISTICS FOR UNDER-WEIGHT FEMALES ---\n",
      "The Total Number of Records are: 13\n",
      "The Minimum Insurance Cost is: $1727.79.\n",
      "The Average Insurance Cost is: $10532.03.\n",
      "The Maximum Insurance Cost is: $32734.19.\n",
      "--- STATISTICS FOR UNDER-WEIGHT FEMALES ---\n",
      "\n",
      "--- AGE & BMI INFO FOR UNDER-WEIGHT FEMALES ---\n",
      "The average age of Under-Weight Females is: 34.3 years. \n",
      "The average BMI of Under-Weight Females is: 17.8.\n",
      "--- AGE & BMI INFO FOR UNDER-WEIGHT FEMALES ---\n",
      "\n",
      "--- STATISTICS FOR HEALTHY-WEIGHT FEMALES ---\n",
      "The Total Number of Records are: 118\n",
      "The Minimum Insurance Cost is: $1607.51.\n",
      "The Average Insurance Cost is: $10954.77.\n",
      "The Maximum Insurance Cost is: $27117.99.\n",
      "--- STATISTICS FOR HEALTHY-WEIGHT FEMALES ---\n",
      "\n",
      "--- AGE & BMI INFO FOR HEALTHY-WEIGHT FEMALES ---\n",
      "The average age of Healthy-Weight Females is: 37.0 years. \n",
      "The average BMI of Healthy-Weight Females is: 22.7.\n",
      "--- AGE & BMI INFO FOR HEALTHY-WEIGHT FEMALES ---\n",
      "\n",
      "--- STATISTICS FOR OVER-WEIGHT FEMALES ---\n",
      "The Total Number of Records are: 197\n",
      "The Minimum Insurance Cost is: $1615.77.\n",
      "The Average Insurance Cost is: $10617.66.\n",
      "The Maximum Insurance Cost is: $35160.13.\n",
      "--- STATISTICS FOR OVER-WEIGHT FEMALES ---\n",
      "\n",
      "--- AGE & BMI INFO FOR OVER-WEIGHT FEMALES ---\n",
      "The average age of Over-Weight Females is: 39.8 years. \n",
      "The average BMI of Over-Weight Females is: 27.6.\n",
      "--- AGE & BMI INFO FOR OVER-WEIGHT FEMALES ---\n",
      "\n",
      "--- STATISTICS FOR OBESE FEMALES ---\n",
      "The Total Number of Records are: 334\n",
      "The Minimum Insurance Cost is: $1621.88.\n",
      "The Average Insurance Cost is: $14370.67.\n",
      "The Maximum Insurance Cost is: $63770.43.\n",
      "--- STATISTICS FOR OBESE FEMALES ---\n",
      "\n",
      "--- AGE & BMI INFO FOR OBESE FEMALES ---\n",
      "The average age of Obese Females is: 40.4 years. \n",
      "The average BMI of Obese Females is: 35.2.\n",
      "--- AGE & BMI INFO FOR OBESE FEMALES ---\n"
     ]
    }
   ],
   "source": [
    "#Finding Statistics for Under-weight Females:\n",
    "uwf_average_cost = statistics(uw_females,\"Under-Weight Females\")\n",
    "average_age_BMI(uw_females,\"Under-Weight Females\")\n",
    "#Finding Statistics for Healthy-weight Females:\n",
    "hwf_average_cost = statistics(hw_females,\"Healthy-Weight Females\")\n",
    "average_age_BMI(hw_females,\"Healthy-Weight Females\")\n",
    "#Finding Statistics for Over-weight FeM]males:\n",
    "owf_average_cost = statistics(ow_females,\"Over-Weight Females\")\n",
    "average_age_BMI(ow_females,\"Over-Weight Females\")\n",
    "#Finding Statistics for Obese Females:\n",
    "obf_average_cost = statistics(ob_females,\"Obese Females\")\n",
    "average_age_BMI(ob_females,\"Obese Females\")"
   ]
  },
  {
   "cell_type": "markdown",
   "metadata": {},
   "source": [
    "### 3. Results"
   ]
  },
  {
   "cell_type": "markdown",
   "metadata": {},
   "source": [
    "From these statistics, we can observe that compared to the medical costs for obese people, the medical costs for under-weight & healthy-weight people is much cheaper. We can observe a relation between the age and the BMI. As the age of a person increases, his/her BMI also increases. We can also observe that the medical insurance for under-weight males and females are the least even though they are under-weight. For females, Since the average costs for under-weight, healthy-weight and over-weight are very close to each other, we can suggest that BMI may not be factor for females that contributes to the variance in medical costs unless they are obese."
   ]
  },
  {
   "cell_type": "markdown",
   "metadata": {},
   "source": [
    "### 4. Number of Children factor in Medical Insurance Costs"
   ]
  },
  {
   "cell_type": "markdown",
   "metadata": {},
   "source": [
    "Let us split the data based on the number of children they have"
   ]
  },
  {
   "cell_type": "code",
   "execution_count": 21,
   "metadata": {},
   "outputs": [],
   "source": [
    "one_child = [record for record in insurance_data if float(record[3])==1]\n",
    "two_child = [record for record in insurance_data if float(record[3])==2]\n",
    "three_child = [record for record in insurance_data if float(record[3])==3]\n",
    "more_child = [record for record in insurance_data if float(record[3])>3]\n"
   ]
  },
  {
   "cell_type": "code",
   "execution_count": 22,
   "metadata": {},
   "outputs": [
    {
     "name": "stdout",
     "output_type": "stream",
     "text": [
      "\n",
      "--- STATISTICS FOR NO CHILDREN ---\n",
      "The Total Number of Records are: 574\n",
      "The Minimum Insurance Cost is: $1121.87.\n",
      "The Average Insurance Cost is: $12365.98.\n",
      "The Maximum Insurance Cost is: $63770.43.\n",
      "--- STATISTICS FOR NO CHILDREN ---\n",
      "\n",
      "--- AGE & BMI INFO FOR NO CHILDREN ---\n",
      "The average age of No Children is: 38.4 years. \n",
      "The average BMI of No Children is: 30.6.\n",
      "--- AGE & BMI INFO FOR NO CHILDREN ---\n",
      "\n",
      "--- STATISTICS FOR ONE CHILD ---\n",
      "The Total Number of Records are: 324\n",
      "The Minimum Insurance Cost is: $1711.03.\n",
      "The Average Insurance Cost is: $12731.17.\n",
      "The Maximum Insurance Cost is: $58571.07.\n",
      "--- STATISTICS FOR ONE CHILD ---\n",
      "\n",
      "--- AGE & BMI INFO FOR ONE CHILD ---\n",
      "The average age of One Child is: 39.5 years. \n",
      "The average BMI of One Child is: 30.6.\n",
      "--- AGE & BMI INFO FOR ONE CHILD ---\n",
      "\n",
      "--- STATISTICS FOR TWO CHILDREN ---\n",
      "The Total Number of Records are: 240\n",
      "The Minimum Insurance Cost is: $2304.0.\n",
      "The Average Insurance Cost is: $15073.56.\n",
      "The Maximum Insurance Cost is: $49577.66.\n",
      "--- STATISTICS FOR TWO CHILDREN ---\n",
      "\n",
      "--- AGE & BMI INFO FOR TWO CHILDREN ---\n",
      "The average age of Two Children is: 39.4 years. \n",
      "The average BMI of Two Children is: 31.0.\n",
      "--- AGE & BMI INFO FOR TWO CHILDREN ---\n",
      "\n",
      "--- STATISTICS FOR THREE CHILDREN ---\n",
      "The Total Number of Records are: 157\n",
      "The Minimum Insurance Cost is: $3443.06.\n",
      "The Average Insurance Cost is: $15355.32.\n",
      "The Maximum Insurance Cost is: $60021.4.\n",
      "--- STATISTICS FOR THREE CHILDREN ---\n",
      "\n",
      "--- AGE & BMI INFO FOR THREE CHILDREN ---\n",
      "The average age of Three Children is: 41.6 years. \n",
      "The average BMI of Three Children is: 30.7.\n",
      "--- AGE & BMI INFO FOR THREE CHILDREN ---\n",
      "\n",
      "--- STATISTICS FOR MORE THAN 3 CHILDREN ---\n",
      "The Total Number of Records are: 43\n",
      "The Minimum Insurance Cost is: $4504.66.\n",
      "The Average Insurance Cost is: $11730.58.\n",
      "The Maximum Insurance Cost is: $40182.25.\n",
      "--- STATISTICS FOR MORE THAN 3 CHILDREN ---\n",
      "\n",
      "--- AGE & BMI INFO FOR MORE THAN 3 CHILDREN ---\n",
      "The average age of More than 3 Children is: 37.6 years. \n",
      "The average BMI of More than 3 Children is: 30.6.\n",
      "--- AGE & BMI INFO FOR MORE THAN 3 CHILDREN ---\n"
     ]
    }
   ],
   "source": [
    "#Finding Statistics for No Children:\n",
    "no_average_cost = statistics(no_children,\"No Children\")\n",
    "average_age_BMI(no_children,\"No Children\")\n",
    "#Finding Statistics for 1 Child:\n",
    "one_child_average_cost = statistics(one_child,\"One Child\")\n",
    "average_age_BMI(one_child,\"One Child\")\n",
    "#Finding Statistics for 2 Children:\n",
    "two_child_average_cost = statistics(two_child,\"Two Children\")\n",
    "average_age_BMI(two_child,\"Two Children\")\n",
    "#Finding Statistics for 3 Children:\n",
    "three_child_average_cost = statistics(three_child,\"Three Children\")\n",
    "average_age_BMI(three_child,\"Three Children\")\n",
    "#Finding Statistics for more than 3 Children:\n",
    "more_child_average_cost = statistics(more_child,\"More than 3 Children\")\n",
    "average_age_BMI(more_child,\"More than 3 Children\")"
   ]
  },
  {
   "cell_type": "markdown",
   "metadata": {},
   "source": [
    "### 4. Results"
   ]
  },
  {
   "cell_type": "markdown",
   "metadata": {},
   "source": [
    "From these statistics, In my opinion, I thought medical insurance costs would increase if you had more children but it does'nt seem to be the case here. Yes, the medical insurance costs increase from no children to three children but if you have more than 3 children, The medical costs are even lower than if you have no children! Yes, I know we cannot assume this to be true as the sample portion is very small but it is still a finding which has suprised me."
   ]
  },
  {
   "cell_type": "markdown",
   "metadata": {},
   "source": [
    "# Conclusion"
   ]
  },
  {
   "cell_type": "markdown",
   "metadata": {},
   "source": [
    "Through observation and inspection, we were able to identify a lot of new information without even visualizing the data. As I am beginning my data analyst journey, this motivates me even more because we still have not used all our tools from our toolkit. We just used Python without importing any libraries(other than csv). Imagine how much information we can dervive once we master all our tools and have to work real world huge datasets."
   ]
  },
  {
   "cell_type": "markdown",
   "metadata": {},
   "source": [
    "I have tried my best and I am a newbie, so if you feel I can improve in places please let me know, I would love the feedback. Thank you! Have a lovely day!"
   ]
  }
 ],
 "metadata": {
  "kernelspec": {
   "display_name": "Python 3",
   "language": "python",
   "name": "python3"
  },
  "language_info": {
   "codemirror_mode": {
    "name": "ipython",
    "version": 3
   },
   "file_extension": ".py",
   "mimetype": "text/x-python",
   "name": "python",
   "nbconvert_exporter": "python",
   "pygments_lexer": "ipython3",
   "version": "3.8.8"
  }
 },
 "nbformat": 4,
 "nbformat_minor": 4
}
